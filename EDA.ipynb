{
 "cells": [
  {
   "cell_type": "code",
   "execution_count": 1,
   "metadata": {},
   "outputs": [],
   "source": [
    "import pandas as pd\n",
    "import gzip\n",
    "import json\n",
    "import matplotlib.pyplot as plt"
   ]
  },
  {
   "cell_type": "code",
   "execution_count": 2,
   "metadata": {},
   "outputs": [],
   "source": [
    "def parse(path):\n",
    "  g = gzip.open(path, 'rb')\n",
    "  for l in g:\n",
    "    yield json.loads(l)\n",
    "\n",
    "def getDF(path):\n",
    "  i = 0\n",
    "  df = {}\n",
    "  for d in parse(path):\n",
    "    df[i] = d\n",
    "    i += 1\n",
    "  return pd.DataFrame.from_dict(df, orient='index')"
   ]
  },
  {
   "cell_type": "code",
   "execution_count": 3,
   "metadata": {},
   "outputs": [],
   "source": [
    "df = getDF('Office_Products_5.json.gz')"
   ]
  },
  {
   "cell_type": "code",
   "execution_count": 4,
   "metadata": {},
   "outputs": [],
   "source": [
    "metadata_df = getDF('meta_Office_Products.json.gz')"
   ]
  },
  {
   "cell_type": "code",
   "execution_count": 5,
   "metadata": {},
   "outputs": [
    {
     "data": {
      "text/html": [
       "<div>\n",
       "<style scoped>\n",
       "    .dataframe tbody tr th:only-of-type {\n",
       "        vertical-align: middle;\n",
       "    }\n",
       "\n",
       "    .dataframe tbody tr th {\n",
       "        vertical-align: top;\n",
       "    }\n",
       "\n",
       "    .dataframe thead th {\n",
       "        text-align: right;\n",
       "    }\n",
       "</style>\n",
       "<table border=\"1\" class=\"dataframe\">\n",
       "  <thead>\n",
       "    <tr style=\"text-align: right;\">\n",
       "      <th></th>\n",
       "      <th>overall</th>\n",
       "      <th>verified</th>\n",
       "      <th>reviewTime</th>\n",
       "      <th>reviewerID</th>\n",
       "      <th>asin</th>\n",
       "      <th>style</th>\n",
       "      <th>reviewerName</th>\n",
       "      <th>reviewText</th>\n",
       "      <th>summary</th>\n",
       "      <th>unixReviewTime</th>\n",
       "      <th>vote</th>\n",
       "      <th>image</th>\n",
       "    </tr>\n",
       "  </thead>\n",
       "  <tbody>\n",
       "    <tr>\n",
       "      <td>0</td>\n",
       "      <td>4.0</td>\n",
       "      <td>True</td>\n",
       "      <td>11 7, 2017</td>\n",
       "      <td>A2NIJTYWADLK57</td>\n",
       "      <td>0140503528</td>\n",
       "      <td>{'Format:': ' Board book'}</td>\n",
       "      <td>cotton clay</td>\n",
       "      <td>kids like story BUT while i really wanted a bo...</td>\n",
       "      <td>good story, small size book though</td>\n",
       "      <td>1510012800</td>\n",
       "      <td>NaN</td>\n",
       "      <td>NaN</td>\n",
       "    </tr>\n",
       "    <tr>\n",
       "      <td>1</td>\n",
       "      <td>4.0</td>\n",
       "      <td>True</td>\n",
       "      <td>03 7, 2017</td>\n",
       "      <td>A2827D8EEURMP4</td>\n",
       "      <td>0140503528</td>\n",
       "      <td>{'Format:': ' Hardcover'}</td>\n",
       "      <td>emankcin</td>\n",
       "      <td>Bought this used and it came in great conditio...</td>\n",
       "      <td>Good</td>\n",
       "      <td>1488844800</td>\n",
       "      <td>NaN</td>\n",
       "      <td>NaN</td>\n",
       "    </tr>\n",
       "    <tr>\n",
       "      <td>2</td>\n",
       "      <td>5.0</td>\n",
       "      <td>True</td>\n",
       "      <td>06 25, 2016</td>\n",
       "      <td>APB6087F4J09J</td>\n",
       "      <td>0140503528</td>\n",
       "      <td>{'Format:': ' Board book'}</td>\n",
       "      <td>Starbucks Fan</td>\n",
       "      <td>Every story and book about Corduroy is Fantast...</td>\n",
       "      <td>Best Books for All Children</td>\n",
       "      <td>1466812800</td>\n",
       "      <td>NaN</td>\n",
       "      <td>NaN</td>\n",
       "    </tr>\n",
       "    <tr>\n",
       "      <td>3</td>\n",
       "      <td>5.0</td>\n",
       "      <td>True</td>\n",
       "      <td>02 21, 2016</td>\n",
       "      <td>A2DHERRZIPFU7X</td>\n",
       "      <td>0140503528</td>\n",
       "      <td>{'Format:': ' Paperback'}</td>\n",
       "      <td>Caitlyn Jacobson</td>\n",
       "      <td>I purchased this book for my first grade class...</td>\n",
       "      <td>Great for Math!</td>\n",
       "      <td>1456012800</td>\n",
       "      <td>NaN</td>\n",
       "      <td>NaN</td>\n",
       "    </tr>\n",
       "    <tr>\n",
       "      <td>4</td>\n",
       "      <td>5.0</td>\n",
       "      <td>False</td>\n",
       "      <td>08 2, 2015</td>\n",
       "      <td>A2XCLJRGFANRC</td>\n",
       "      <td>0140503528</td>\n",
       "      <td>{'Format:': ' Hardcover'}</td>\n",
       "      <td>E. Ervin</td>\n",
       "      <td>Having spent numerous years in an elementary s...</td>\n",
       "      <td>Love Corduroy</td>\n",
       "      <td>1438473600</td>\n",
       "      <td>NaN</td>\n",
       "      <td>NaN</td>\n",
       "    </tr>\n",
       "  </tbody>\n",
       "</table>\n",
       "</div>"
      ],
      "text/plain": [
       "   overall  verified   reviewTime      reviewerID        asin  \\\n",
       "0      4.0      True   11 7, 2017  A2NIJTYWADLK57  0140503528   \n",
       "1      4.0      True   03 7, 2017  A2827D8EEURMP4  0140503528   \n",
       "2      5.0      True  06 25, 2016   APB6087F4J09J  0140503528   \n",
       "3      5.0      True  02 21, 2016  A2DHERRZIPFU7X  0140503528   \n",
       "4      5.0     False   08 2, 2015   A2XCLJRGFANRC  0140503528   \n",
       "\n",
       "                        style      reviewerName  \\\n",
       "0  {'Format:': ' Board book'}       cotton clay   \n",
       "1   {'Format:': ' Hardcover'}          emankcin   \n",
       "2  {'Format:': ' Board book'}     Starbucks Fan   \n",
       "3   {'Format:': ' Paperback'}  Caitlyn Jacobson   \n",
       "4   {'Format:': ' Hardcover'}          E. Ervin   \n",
       "\n",
       "                                          reviewText  \\\n",
       "0  kids like story BUT while i really wanted a bo...   \n",
       "1  Bought this used and it came in great conditio...   \n",
       "2  Every story and book about Corduroy is Fantast...   \n",
       "3  I purchased this book for my first grade class...   \n",
       "4  Having spent numerous years in an elementary s...   \n",
       "\n",
       "                              summary  unixReviewTime vote image  \n",
       "0  good story, small size book though      1510012800  NaN   NaN  \n",
       "1                                Good      1488844800  NaN   NaN  \n",
       "2         Best Books for All Children      1466812800  NaN   NaN  \n",
       "3                     Great for Math!      1456012800  NaN   NaN  \n",
       "4                       Love Corduroy      1438473600  NaN   NaN  "
      ]
     },
     "execution_count": 5,
     "metadata": {},
     "output_type": "execute_result"
    }
   ],
   "source": [
    "df.head()"
   ]
  },
  {
   "cell_type": "code",
   "execution_count": 6,
   "metadata": {},
   "outputs": [
    {
     "name": "stdout",
     "output_type": "stream",
     "text": [
      "<class 'pandas.core.frame.DataFrame'>\n",
      "Int64Index: 800357 entries, 0 to 800356\n",
      "Data columns (total 12 columns):\n",
      "overall           800357 non-null float64\n",
      "verified          800357 non-null bool\n",
      "reviewTime        800357 non-null object\n",
      "reviewerID        800357 non-null object\n",
      "asin              800357 non-null object\n",
      "style             501427 non-null object\n",
      "reviewerName      800217 non-null object\n",
      "reviewText        800144 non-null object\n",
      "summary           800228 non-null object\n",
      "unixReviewTime    800357 non-null int64\n",
      "vote              88817 non-null object\n",
      "image             11302 non-null object\n",
      "dtypes: bool(1), float64(1), int64(1), object(9)\n",
      "memory usage: 74.0+ MB\n"
     ]
    }
   ],
   "source": [
    "df.info()"
   ]
  },
  {
   "cell_type": "code",
   "execution_count": 7,
   "metadata": {},
   "outputs": [
    {
     "data": {
      "text/plain": [
       "1800007"
      ]
     },
     "execution_count": 7,
     "metadata": {},
     "output_type": "execute_result"
    }
   ],
   "source": [
    "df.isnull().values.sum()"
   ]
  },
  {
   "cell_type": "markdown",
   "metadata": {},
   "source": [
    "### Number of reviews"
   ]
  },
  {
   "cell_type": "code",
   "execution_count": 8,
   "metadata": {},
   "outputs": [
    {
     "data": {
      "text/plain": [
       "800357"
      ]
     },
     "execution_count": 8,
     "metadata": {},
     "output_type": "execute_result"
    }
   ],
   "source": [
    "df.shape[0]"
   ]
  },
  {
   "cell_type": "code",
   "execution_count": 9,
   "metadata": {},
   "outputs": [
    {
     "data": {
      "text/plain": [
       "12"
      ]
     },
     "execution_count": 9,
     "metadata": {},
     "output_type": "execute_result"
    }
   ],
   "source": [
    "df.shape[1]"
   ]
  },
  {
   "cell_type": "markdown",
   "metadata": {},
   "source": [
    "### Number of reviewers"
   ]
  },
  {
   "cell_type": "code",
   "execution_count": 10,
   "metadata": {},
   "outputs": [
    {
     "data": {
      "text/plain": [
       "101501"
      ]
     },
     "execution_count": 10,
     "metadata": {},
     "output_type": "execute_result"
    }
   ],
   "source": [
    "df.reviewerID.nunique()"
   ]
  },
  {
   "cell_type": "markdown",
   "metadata": {},
   "source": [
    "### Number of Products"
   ]
  },
  {
   "cell_type": "code",
   "execution_count": 11,
   "metadata": {},
   "outputs": [
    {
     "data": {
      "text/plain": [
       "27965"
      ]
     },
     "execution_count": 11,
     "metadata": {},
     "output_type": "execute_result"
    }
   ],
   "source": [
    "df.asin.nunique()"
   ]
  },
  {
   "cell_type": "markdown",
   "metadata": {},
   "source": [
    "### Number of Rating classes"
   ]
  },
  {
   "cell_type": "code",
   "execution_count": 12,
   "metadata": {},
   "outputs": [
    {
     "data": {
      "text/plain": [
       "5"
      ]
     },
     "execution_count": 12,
     "metadata": {},
     "output_type": "execute_result"
    }
   ],
   "source": [
    "df.overall.nunique()"
   ]
  },
  {
   "cell_type": "markdown",
   "metadata": {},
   "source": [
    "### Rating distribution"
   ]
  },
  {
   "cell_type": "code",
   "execution_count": 13,
   "metadata": {},
   "outputs": [
    {
     "data": {
      "text/plain": [
       "<matplotlib.axes._subplots.AxesSubplot at 0x1ee6267d0>"
      ]
     },
     "execution_count": 13,
     "metadata": {},
     "output_type": "execute_result"
    },
    {
     "data": {
      "image/png": "[encoded data removed]",
      "text/plain": [
       "<Figure size 432x288 with 1 Axes>"
      ]
     },
     "metadata": {
      "needs_background": "light"
     },
     "output_type": "display_data"
    }
   ],
   "source": [
    "df.overall.astype(int).hist()"
   ]
  },
  {
   "cell_type": "code",
   "execution_count": 14,
   "metadata": {},
   "outputs": [
    {
     "data": {
      "text/plain": [
       "{1.0, 2.0, 3.0, 4.0, 5.0}"
      ]
     },
     "execution_count": 14,
     "metadata": {},
     "output_type": "execute_result"
    }
   ],
   "source": [
    "set(df.overall)"
   ]
  },
  {
   "cell_type": "code",
   "execution_count": 15,
   "metadata": {},
   "outputs": [
    {
     "data": {
      "text/html": [
       "<div>\n",
       "<style scoped>\n",
       "    .dataframe tbody tr th:only-of-type {\n",
       "        vertical-align: middle;\n",
       "    }\n",
       "\n",
       "    .dataframe tbody tr th {\n",
       "        vertical-align: top;\n",
       "    }\n",
       "\n",
       "    .dataframe thead th {\n",
       "        text-align: right;\n",
       "    }\n",
       "</style>\n",
       "<table border=\"1\" class=\"dataframe\">\n",
       "  <thead>\n",
       "    <tr style=\"text-align: right;\">\n",
       "      <th></th>\n",
       "      <th>overall</th>\n",
       "      <th>unixReviewTime</th>\n",
       "    </tr>\n",
       "  </thead>\n",
       "  <tbody>\n",
       "    <tr>\n",
       "      <td>count</td>\n",
       "      <td>800357.000000</td>\n",
       "      <td>8.003570e+05</td>\n",
       "    </tr>\n",
       "    <tr>\n",
       "      <td>mean</td>\n",
       "      <td>4.471100</td>\n",
       "      <td>1.442901e+09</td>\n",
       "    </tr>\n",
       "    <tr>\n",
       "      <td>std</td>\n",
       "      <td>1.015676</td>\n",
       "      <td>5.853007e+07</td>\n",
       "    </tr>\n",
       "    <tr>\n",
       "      <td>min</td>\n",
       "      <td>1.000000</td>\n",
       "      <td>9.396000e+08</td>\n",
       "    </tr>\n",
       "    <tr>\n",
       "      <td>25%</td>\n",
       "      <td>4.000000</td>\n",
       "      <td>1.415664e+09</td>\n",
       "    </tr>\n",
       "    <tr>\n",
       "      <td>50%</td>\n",
       "      <td>5.000000</td>\n",
       "      <td>1.451952e+09</td>\n",
       "    </tr>\n",
       "    <tr>\n",
       "      <td>75%</td>\n",
       "      <td>5.000000</td>\n",
       "      <td>1.483056e+09</td>\n",
       "    </tr>\n",
       "    <tr>\n",
       "      <td>max</td>\n",
       "      <td>5.000000</td>\n",
       "      <td>1.538438e+09</td>\n",
       "    </tr>\n",
       "  </tbody>\n",
       "</table>\n",
       "</div>"
      ],
      "text/plain": [
       "             overall  unixReviewTime\n",
       "count  800357.000000    8.003570e+05\n",
       "mean        4.471100    1.442901e+09\n",
       "std         1.015676    5.853007e+07\n",
       "min         1.000000    9.396000e+08\n",
       "25%         4.000000    1.415664e+09\n",
       "50%         5.000000    1.451952e+09\n",
       "75%         5.000000    1.483056e+09\n",
       "max         5.000000    1.538438e+09"
      ]
     },
     "execution_count": 15,
     "metadata": {},
     "output_type": "execute_result"
    }
   ],
   "source": [
    "df.describe()"
   ]
  },
  {
   "cell_type": "markdown",
   "metadata": {},
   "source": [
    "### Average Rating 4.47 Min rating 1 Max rating 5"
   ]
  },
  {
   "cell_type": "markdown",
   "metadata": {},
   "source": [
    "### Verified Reviews Distribution"
   ]
  },
  {
   "cell_type": "code",
   "execution_count": 16,
   "metadata": {},
   "outputs": [
    {
     "data": {
      "text/plain": [
       "<matplotlib.axes._subplots.AxesSubplot at 0x1ee564550>"
      ]
     },
     "execution_count": 16,
     "metadata": {},
     "output_type": "execute_result"
    },
    {
     "data": {
      "image/png": "[encoded data removed]",
      "text/plain": [
       "<Figure size 432x288 with 1 Axes>"
      ]
     },
     "metadata": {},
     "output_type": "display_data"
    }
   ],
   "source": [
    "df.groupby('verified')['reviewerID'].count().plot.pie()"
   ]
  },
  {
   "cell_type": "code",
   "execution_count": 17,
   "metadata": {},
   "outputs": [
    {
     "data": {
      "text/plain": [
       "overall           800357\n",
       "verified          800357\n",
       "reviewTime        800357\n",
       "reviewerID        800357\n",
       "asin              800357\n",
       "style             501427\n",
       "reviewerName      800217\n",
       "reviewText        800144\n",
       "summary           800228\n",
       "unixReviewTime    800357\n",
       "vote               88817\n",
       "image              11302\n",
       "dtype: int64"
      ]
     },
     "execution_count": 17,
     "metadata": {},
     "output_type": "execute_result"
    }
   ],
   "source": [
    "df[df['style'] != None].count()"
   ]
  },
  {
   "cell_type": "code",
   "execution_count": 18,
   "metadata": {},
   "outputs": [],
   "source": [
    "df = df.dropna(subset=['style'])"
   ]
  },
  {
   "cell_type": "code",
   "execution_count": 19,
   "metadata": {},
   "outputs": [],
   "source": [
    "df['style'] = df['style'].apply(lambda x:x.get('Format:'))"
   ]
  },
  {
   "cell_type": "code",
   "execution_count": 20,
   "metadata": {},
   "outputs": [
    {
     "data": {
      "text/plain": [
       "0     Board book\n",
       "1      Hardcover\n",
       "2     Board book\n",
       "3      Paperback\n",
       "4      Hardcover\n",
       "Name: style, dtype: object"
      ]
     },
     "execution_count": 20,
     "metadata": {},
     "output_type": "execute_result"
    }
   ],
   "source": [
    "df['style'].head()"
   ]
  },
  {
   "cell_type": "code",
   "execution_count": 36,
   "metadata": {},
   "outputs": [
    {
     "data": {
      "text/plain": [
       "<matplotlib.axes._subplots.AxesSubplot at 0x1edae6250>"
      ]
     },
     "execution_count": 36,
     "metadata": {},
     "output_type": "execute_result"
    },
    {
     "data": {
      "image/png": "[encoded data removed]",
      "text/plain": [
       "<Figure size 864x576 with 1 Axes>"
      ]
     },
     "metadata": {
      "needs_background": "light"
     },
     "output_type": "display_data"
    }
   ],
   "source": [
    "plt.figure(figsize = (12,8))\n",
    "df.groupby('style')['reviewerID'].count().plot.bar()"
   ]
  },
  {
   "cell_type": "markdown",
   "metadata": {},
   "source": [
    "### review time"
   ]
  },
  {
   "cell_type": "code",
   "execution_count": 22,
   "metadata": {},
   "outputs": [
    {
     "data": {
      "text/plain": [
       "str"
      ]
     },
     "execution_count": 22,
     "metadata": {},
     "output_type": "execute_result"
    }
   ],
   "source": [
    "type(df['reviewTime'][0])"
   ]
  },
  {
   "cell_type": "code",
   "execution_count": 23,
   "metadata": {},
   "outputs": [],
   "source": [
    "df['reviewTime'] = pd.to_datetime(df['reviewTime'])"
   ]
  },
  {
   "cell_type": "markdown",
   "metadata": {},
   "source": [
    "### Number of reviews per year"
   ]
  },
  {
   "cell_type": "code",
   "execution_count": 24,
   "metadata": {},
   "outputs": [
    {
     "data": {
      "text/plain": [
       "<matplotlib.axes._subplots.AxesSubplot at 0x1ee571e50>"
      ]
     },
     "execution_count": 24,
     "metadata": {},
     "output_type": "execute_result"
    },
    {
     "data": {
      "image/png": "[encoded data removed]",
      "text/plain": [
       "<Figure size 864x576 with 1 Axes>"
      ]
     },
     "metadata": {
      "needs_background": "light"
     },
     "output_type": "display_data"
    }
   ],
   "source": [
    "plt.figure(figsize = (12,8))\n",
    "df['reviewTime'].dt.year.hist()"
   ]
  },
  {
   "cell_type": "markdown",
   "metadata": {},
   "source": [
    "### Number of reviews per month"
   ]
  },
  {
   "cell_type": "code",
   "execution_count": 25,
   "metadata": {},
   "outputs": [
    {
     "data": {
      "text/plain": [
       "<matplotlib.axes._subplots.AxesSubplot at 0x1ee59ed90>"
      ]
     },
     "execution_count": 25,
     "metadata": {},
     "output_type": "execute_result"
    },
    {
     "data": {
      "image/png": "[encoded data removed]",
      "text/plain": [
       "<Figure size 864x576 with 1 Axes>"
      ]
     },
     "metadata": {
      "needs_background": "light"
     },
     "output_type": "display_data"
    }
   ],
   "source": [
    "plt.figure(figsize = (12,8))\n",
    "df['reviewTime'].dt.month.hist()"
   ]
  },
  {
   "cell_type": "code",
   "execution_count": 26,
   "metadata": {},
   "outputs": [
    {
     "data": {
      "text/plain": [
       "<matplotlib.axes._subplots.AxesSubplot at 0x1ee25a390>"
      ]
     },
     "execution_count": 26,
     "metadata": {},
     "output_type": "execute_result"
    },
    {
     "data": {
      "image/png": "[encoded data removed]",
      "text/plain": [
       "<Figure size 864x576 with 1 Axes>"
      ]
     },
     "metadata": {
      "needs_background": "light"
     },
     "output_type": "display_data"
    }
   ],
   "source": [
    "plt.figure(figsize = (12,8))\n",
    "df.groupby('asin')['reviewerID'].count().nlargest(60).plot.bar()"
   ]
  },
  {
   "cell_type": "code",
   "execution_count": 27,
   "metadata": {},
   "outputs": [
    {
     "name": "stdout",
     "output_type": "stream",
     "text": [
      "<class 'pandas.core.frame.DataFrame'>\n",
      "Int64Index: 315644 entries, 0 to 315389\n",
      "Data columns (total 18 columns):\n",
      "category        299054 non-null object\n",
      "tech1           230440 non-null object\n",
      "description     275894 non-null object\n",
      "title           315636 non-null object\n",
      "brand           310777 non-null object\n",
      "rank            312965 non-null object\n",
      "also_view       92428 non-null object\n",
      "main_cat        310623 non-null object\n",
      "similar_item    120561 non-null object\n",
      "date            275884 non-null object\n",
      "price           170223 non-null object\n",
      "asin            315644 non-null object\n",
      "feature         256556 non-null object\n",
      "also_buy        99107 non-null object\n",
      "image           171647 non-null object\n",
      "details         15393 non-null object\n",
      "tech2           194 non-null object\n",
      "fit             42 non-null object\n",
      "dtypes: object(18)\n",
      "memory usage: 45.8+ MB\n"
     ]
    }
   ],
   "source": [
    "metadata_df.info()"
   ]
  },
  {
   "cell_type": "code",
   "execution_count": 28,
   "metadata": {},
   "outputs": [
    {
     "data": {
      "text/html": [
       "<div>\n",
       "<style scoped>\n",
       "    .dataframe tbody tr th:only-of-type {\n",
       "        vertical-align: middle;\n",
       "    }\n",
       "\n",
       "    .dataframe tbody tr th {\n",
       "        vertical-align: top;\n",
       "    }\n",
       "\n",
       "    .dataframe thead th {\n",
       "        text-align: right;\n",
       "    }\n",
       "</style>\n",
       "<table border=\"1\" class=\"dataframe\">\n",
       "  <thead>\n",
       "    <tr style=\"text-align: right;\">\n",
       "      <th></th>\n",
       "      <th>category</th>\n",
       "      <th>tech1</th>\n",
       "      <th>description</th>\n",
       "      <th>title</th>\n",
       "      <th>brand</th>\n",
       "      <th>rank</th>\n",
       "      <th>also_view</th>\n",
       "      <th>main_cat</th>\n",
       "      <th>similar_item</th>\n",
       "      <th>date</th>\n",
       "      <th>price</th>\n",
       "      <th>asin</th>\n",
       "      <th>feature</th>\n",
       "      <th>also_buy</th>\n",
       "      <th>image</th>\n",
       "      <th>details</th>\n",
       "      <th>tech2</th>\n",
       "      <th>fit</th>\n",
       "    </tr>\n",
       "  </thead>\n",
       "  <tbody>\n",
       "    <tr>\n",
       "      <td>0</td>\n",
       "      <td>[Office Products, Office &amp; School Supplies, Ed...</td>\n",
       "      <td>{'Brand Name': 'STL Distributors', 'Item Weigh...</td>\n",
       "      <td>[Sequential Spelling is based on the classic O...</td>\n",
       "      <td>Sequential Spelling Level 1 Bundle with Studen...</td>\n",
       "      <td>STL Distributors</td>\n",
       "      <td>&gt;#439,654 in Office Products (See top 100)&gt;#3,...</td>\n",
       "      <td>[1935943065, 1935943073, B00IJH9Q4M, 002115021...</td>\n",
       "      <td>Office Products</td>\n",
       "      <td>[{'asin': '', 'href': '', 'name': 'Sequential ...</td>\n",
       "      <td>August 15, 2014</td>\n",
       "      <td>$32.90</td>\n",
       "      <td>0012624861</td>\n",
       "      <td>NaN</td>\n",
       "      <td>NaN</td>\n",
       "      <td>NaN</td>\n",
       "      <td>NaN</td>\n",
       "      <td>NaN</td>\n",
       "      <td>NaN</td>\n",
       "    </tr>\n",
       "    <tr>\n",
       "      <td>1</td>\n",
       "      <td>[Office Products, Office &amp; School Supplies, Ed...</td>\n",
       "      <td>NaN</td>\n",
       "      <td>[Unusual book, , ]</td>\n",
       "      <td>Mathematics, Applications and Concepts, Course...</td>\n",
       "      <td>bailey</td>\n",
       "      <td>3,839,628inBooks(</td>\n",
       "      <td>NaN</td>\n",
       "      <td>Books</td>\n",
       "      <td>NaN</td>\n",
       "      <td>NaN</td>\n",
       "      <td>$8.62</td>\n",
       "      <td>0078652669</td>\n",
       "      <td>NaN</td>\n",
       "      <td>NaN</td>\n",
       "      <td>NaN</td>\n",
       "      <td>NaN</td>\n",
       "      <td>NaN</td>\n",
       "      <td>NaN</td>\n",
       "    </tr>\n",
       "    <tr>\n",
       "      <td>3</td>\n",
       "      <td>[Office Products, Office &amp; School Supplies, Ed...</td>\n",
       "      <td>{'Brand Name': 'Ingram Book &amp; Distributor', 'I...</td>\n",
       "      <td>[Corduroy the bear goes to the launderette wit...</td>\n",
       "      <td>A Pocket for Corduroy</td>\n",
       "      <td>Ingram Book &amp; Distributor</td>\n",
       "      <td>&gt;#422,894 in Office Products (See top 100)&gt;#3,...</td>\n",
       "      <td>[0140501738]</td>\n",
       "      <td>Office Products</td>\n",
       "      <td>NaN</td>\n",
       "      <td>September 14, 2006</td>\n",
       "      <td>$0.95</td>\n",
       "      <td>0140503528</td>\n",
       "      <td>[9780140503524]</td>\n",
       "      <td>[0140501738, 0448421917, 0670063428, 042528875...</td>\n",
       "      <td>NaN</td>\n",
       "      <td>NaN</td>\n",
       "      <td>NaN</td>\n",
       "      <td>NaN</td>\n",
       "    </tr>\n",
       "    <tr>\n",
       "      <td>4</td>\n",
       "      <td>[Office Products, Office &amp; School Supplies, Ed...</td>\n",
       "      <td>NaN</td>\n",
       "      <td>[WHAT EVERYONE NEEDS TO KNOW About This Series...</td>\n",
       "      <td>Social Entrepreneurship: What Everyone Needs t...</td>\n",
       "      <td>Visit Amazon's David Bornstein Page</td>\n",
       "      <td>110,732inBooks(</td>\n",
       "      <td>[0195334760, 1586489569, 1613630328, 142210406...</td>\n",
       "      <td>Books</td>\n",
       "      <td>NaN</td>\n",
       "      <td>NaN</td>\n",
       "      <td>NaN</td>\n",
       "      <td>0195396332</td>\n",
       "      <td>NaN</td>\n",
       "      <td>[0195334760, 1613630328, 1422104060, 158648956...</td>\n",
       "      <td>NaN</td>\n",
       "      <td>NaN</td>\n",
       "      <td>NaN</td>\n",
       "      <td>NaN</td>\n",
       "    </tr>\n",
       "    <tr>\n",
       "      <td>5</td>\n",
       "      <td>[Office Products, Office &amp; School Supplies, Bo...</td>\n",
       "      <td>{'Brand Name': 'EKLOEN', 'Item Weight': '5.3 o...</td>\n",
       "      <td>[A good helper to help you record your reading...</td>\n",
       "      <td>EKLOEN Mixed Designs of Antiqued Bronze Colour...</td>\n",
       "      <td>EKLOEN</td>\n",
       "      <td>&gt;#43,748 in Office Products (See top 100)&gt;#300...</td>\n",
       "      <td>NaN</td>\n",
       "      <td>Office Products</td>\n",
       "      <td>[{'asin': '', 'href': '', 'name': 'EKLOEN Mixe...</td>\n",
       "      <td>November 8, 2015</td>\n",
       "      <td>$17.50</td>\n",
       "      <td>0245109919</td>\n",
       "      <td>[It is not only the bookmarks, but also art, I...</td>\n",
       "      <td>[B00BLY6POE, B00G8WV5U8, 0307591662, B019XJZHQ...</td>\n",
       "      <td>[https://images-na.ssl-images-amazon.com/image...</td>\n",
       "      <td>NaN</td>\n",
       "      <td>NaN</td>\n",
       "      <td>NaN</td>\n",
       "    </tr>\n",
       "  </tbody>\n",
       "</table>\n",
       "</div>"
      ],
      "text/plain": [
       "                                            category  \\\n",
       "0  [Office Products, Office & School Supplies, Ed...   \n",
       "1  [Office Products, Office & School Supplies, Ed...   \n",
       "3  [Office Products, Office & School Supplies, Ed...   \n",
       "4  [Office Products, Office & School Supplies, Ed...   \n",
       "5  [Office Products, Office & School Supplies, Bo...   \n",
       "\n",
       "                                               tech1  \\\n",
       "0  {'Brand Name': 'STL Distributors', 'Item Weigh...   \n",
       "1                                                NaN   \n",
       "3  {'Brand Name': 'Ingram Book & Distributor', 'I...   \n",
       "4                                                NaN   \n",
       "5  {'Brand Name': 'EKLOEN', 'Item Weight': '5.3 o...   \n",
       "\n",
       "                                         description  \\\n",
       "0  [Sequential Spelling is based on the classic O...   \n",
       "1                                 [Unusual book, , ]   \n",
       "3  [Corduroy the bear goes to the launderette wit...   \n",
       "4  [WHAT EVERYONE NEEDS TO KNOW About This Series...   \n",
       "5  [A good helper to help you record your reading...   \n",
       "\n",
       "                                               title  \\\n",
       "0  Sequential Spelling Level 1 Bundle with Studen...   \n",
       "1  Mathematics, Applications and Concepts, Course...   \n",
       "3                              A Pocket for Corduroy   \n",
       "4  Social Entrepreneurship: What Everyone Needs t...   \n",
       "5  EKLOEN Mixed Designs of Antiqued Bronze Colour...   \n",
       "\n",
       "                                 brand  \\\n",
       "0                     STL Distributors   \n",
       "1                               bailey   \n",
       "3            Ingram Book & Distributor   \n",
       "4  Visit Amazon's David Bornstein Page   \n",
       "5                               EKLOEN   \n",
       "\n",
       "                                                rank  \\\n",
       "0  >#439,654 in Office Products (See top 100)>#3,...   \n",
       "1                                  3,839,628inBooks(   \n",
       "3  >#422,894 in Office Products (See top 100)>#3,...   \n",
       "4                                    110,732inBooks(   \n",
       "5  >#43,748 in Office Products (See top 100)>#300...   \n",
       "\n",
       "                                           also_view         main_cat  \\\n",
       "0  [1935943065, 1935943073, B00IJH9Q4M, 002115021...  Office Products   \n",
       "1                                                NaN            Books   \n",
       "3                                       [0140501738]  Office Products   \n",
       "4  [0195334760, 1586489569, 1613630328, 142210406...            Books   \n",
       "5                                                NaN  Office Products   \n",
       "\n",
       "                                        similar_item                date  \\\n",
       "0  [{'asin': '', 'href': '', 'name': 'Sequential ...     August 15, 2014   \n",
       "1                                                NaN                 NaN   \n",
       "3                                                NaN  September 14, 2006   \n",
       "4                                                NaN                 NaN   \n",
       "5  [{'asin': '', 'href': '', 'name': 'EKLOEN Mixe...    November 8, 2015   \n",
       "\n",
       "    price        asin                                            feature  \\\n",
       "0  $32.90  0012624861                                                NaN   \n",
       "1   $8.62  0078652669                                                NaN   \n",
       "3   $0.95  0140503528                                    [9780140503524]   \n",
       "4     NaN  0195396332                                                NaN   \n",
       "5  $17.50  0245109919  [It is not only the bookmarks, but also art, I...   \n",
       "\n",
       "                                            also_buy  \\\n",
       "0                                                NaN   \n",
       "1                                                NaN   \n",
       "3  [0140501738, 0448421917, 0670063428, 042528875...   \n",
       "4  [0195334760, 1613630328, 1422104060, 158648956...   \n",
       "5  [B00BLY6POE, B00G8WV5U8, 0307591662, B019XJZHQ...   \n",
       "\n",
       "                                               image details tech2  fit  \n",
       "0                                                NaN     NaN   NaN  NaN  \n",
       "1                                                NaN     NaN   NaN  NaN  \n",
       "3                                                NaN     NaN   NaN  NaN  \n",
       "4                                                NaN     NaN   NaN  NaN  \n",
       "5  [https://images-na.ssl-images-amazon.com/image...     NaN   NaN  NaN  "
      ]
     },
     "execution_count": 28,
     "metadata": {},
     "output_type": "execute_result"
    }
   ],
   "source": [
    "metadata_df.head()"
   ]
  },
  {
   "cell_type": "code",
   "execution_count": 29,
   "metadata": {},
   "outputs": [
    {
     "data": {
      "text/plain": [
       "5681592"
      ]
     },
     "execution_count": 29,
     "metadata": {},
     "output_type": "execute_result"
    }
   ],
   "source": [
    "metadata_df.size"
   ]
  },
  {
   "cell_type": "code",
   "execution_count": 30,
   "metadata": {},
   "outputs": [
    {
     "data": {
      "text/plain": [
       "(315644, 18)"
      ]
     },
     "execution_count": 30,
     "metadata": {},
     "output_type": "execute_result"
    }
   ],
   "source": [
    "metadata_df.shape"
   ]
  },
  {
   "cell_type": "code",
   "execution_count": 31,
   "metadata": {},
   "outputs": [],
   "source": [
    "combined_df = pd.merge(df, metadata_df, how='left', on='asin') "
   ]
  },
  {
   "cell_type": "code",
   "execution_count": 32,
   "metadata": {},
   "outputs": [
    {
     "data": {
      "text/html": [
       "<div>\n",
       "<style scoped>\n",
       "    .dataframe tbody tr th:only-of-type {\n",
       "        vertical-align: middle;\n",
       "    }\n",
       "\n",
       "    .dataframe tbody tr th {\n",
       "        vertical-align: top;\n",
       "    }\n",
       "\n",
       "    .dataframe thead th {\n",
       "        text-align: right;\n",
       "    }\n",
       "</style>\n",
       "<table border=\"1\" class=\"dataframe\">\n",
       "  <thead>\n",
       "    <tr style=\"text-align: right;\">\n",
       "      <th></th>\n",
       "      <th>overall</th>\n",
       "      <th>verified</th>\n",
       "      <th>reviewTime</th>\n",
       "      <th>reviewerID</th>\n",
       "      <th>asin</th>\n",
       "      <th>style</th>\n",
       "      <th>reviewerName</th>\n",
       "      <th>reviewText</th>\n",
       "      <th>summary</th>\n",
       "      <th>unixReviewTime</th>\n",
       "      <th>...</th>\n",
       "      <th>main_cat</th>\n",
       "      <th>similar_item</th>\n",
       "      <th>date</th>\n",
       "      <th>price</th>\n",
       "      <th>feature</th>\n",
       "      <th>also_buy</th>\n",
       "      <th>image_y</th>\n",
       "      <th>details</th>\n",
       "      <th>tech2</th>\n",
       "      <th>fit</th>\n",
       "    </tr>\n",
       "  </thead>\n",
       "  <tbody>\n",
       "    <tr>\n",
       "      <td>0</td>\n",
       "      <td>4.0</td>\n",
       "      <td>True</td>\n",
       "      <td>2017-11-07</td>\n",
       "      <td>A2NIJTYWADLK57</td>\n",
       "      <td>0140503528</td>\n",
       "      <td>Board book</td>\n",
       "      <td>cotton clay</td>\n",
       "      <td>kids like story BUT while i really wanted a bo...</td>\n",
       "      <td>good story, small size book though</td>\n",
       "      <td>1510012800</td>\n",
       "      <td>...</td>\n",
       "      <td>Office Products</td>\n",
       "      <td>NaN</td>\n",
       "      <td>September 14, 2006</td>\n",
       "      <td>$0.95</td>\n",
       "      <td>[9780140503524]</td>\n",
       "      <td>[0140501738, 0448421917, 0670063428, 042528875...</td>\n",
       "      <td>NaN</td>\n",
       "      <td>NaN</td>\n",
       "      <td>NaN</td>\n",
       "      <td>NaN</td>\n",
       "    </tr>\n",
       "    <tr>\n",
       "      <td>1</td>\n",
       "      <td>4.0</td>\n",
       "      <td>True</td>\n",
       "      <td>2017-03-07</td>\n",
       "      <td>A2827D8EEURMP4</td>\n",
       "      <td>0140503528</td>\n",
       "      <td>Hardcover</td>\n",
       "      <td>emankcin</td>\n",
       "      <td>Bought this used and it came in great conditio...</td>\n",
       "      <td>Good</td>\n",
       "      <td>1488844800</td>\n",
       "      <td>...</td>\n",
       "      <td>Office Products</td>\n",
       "      <td>NaN</td>\n",
       "      <td>September 14, 2006</td>\n",
       "      <td>$0.95</td>\n",
       "      <td>[9780140503524]</td>\n",
       "      <td>[0140501738, 0448421917, 0670063428, 042528875...</td>\n",
       "      <td>NaN</td>\n",
       "      <td>NaN</td>\n",
       "      <td>NaN</td>\n",
       "      <td>NaN</td>\n",
       "    </tr>\n",
       "    <tr>\n",
       "      <td>2</td>\n",
       "      <td>5.0</td>\n",
       "      <td>True</td>\n",
       "      <td>2016-06-25</td>\n",
       "      <td>APB6087F4J09J</td>\n",
       "      <td>0140503528</td>\n",
       "      <td>Board book</td>\n",
       "      <td>Starbucks Fan</td>\n",
       "      <td>Every story and book about Corduroy is Fantast...</td>\n",
       "      <td>Best Books for All Children</td>\n",
       "      <td>1466812800</td>\n",
       "      <td>...</td>\n",
       "      <td>Office Products</td>\n",
       "      <td>NaN</td>\n",
       "      <td>September 14, 2006</td>\n",
       "      <td>$0.95</td>\n",
       "      <td>[9780140503524]</td>\n",
       "      <td>[0140501738, 0448421917, 0670063428, 042528875...</td>\n",
       "      <td>NaN</td>\n",
       "      <td>NaN</td>\n",
       "      <td>NaN</td>\n",
       "      <td>NaN</td>\n",
       "    </tr>\n",
       "    <tr>\n",
       "      <td>3</td>\n",
       "      <td>5.0</td>\n",
       "      <td>True</td>\n",
       "      <td>2016-02-21</td>\n",
       "      <td>A2DHERRZIPFU7X</td>\n",
       "      <td>0140503528</td>\n",
       "      <td>Paperback</td>\n",
       "      <td>Caitlyn Jacobson</td>\n",
       "      <td>I purchased this book for my first grade class...</td>\n",
       "      <td>Great for Math!</td>\n",
       "      <td>1456012800</td>\n",
       "      <td>...</td>\n",
       "      <td>Office Products</td>\n",
       "      <td>NaN</td>\n",
       "      <td>September 14, 2006</td>\n",
       "      <td>$0.95</td>\n",
       "      <td>[9780140503524]</td>\n",
       "      <td>[0140501738, 0448421917, 0670063428, 042528875...</td>\n",
       "      <td>NaN</td>\n",
       "      <td>NaN</td>\n",
       "      <td>NaN</td>\n",
       "      <td>NaN</td>\n",
       "    </tr>\n",
       "    <tr>\n",
       "      <td>4</td>\n",
       "      <td>5.0</td>\n",
       "      <td>False</td>\n",
       "      <td>2015-08-02</td>\n",
       "      <td>A2XCLJRGFANRC</td>\n",
       "      <td>0140503528</td>\n",
       "      <td>Hardcover</td>\n",
       "      <td>E. Ervin</td>\n",
       "      <td>Having spent numerous years in an elementary s...</td>\n",
       "      <td>Love Corduroy</td>\n",
       "      <td>1438473600</td>\n",
       "      <td>...</td>\n",
       "      <td>Office Products</td>\n",
       "      <td>NaN</td>\n",
       "      <td>September 14, 2006</td>\n",
       "      <td>$0.95</td>\n",
       "      <td>[9780140503524]</td>\n",
       "      <td>[0140501738, 0448421917, 0670063428, 042528875...</td>\n",
       "      <td>NaN</td>\n",
       "      <td>NaN</td>\n",
       "      <td>NaN</td>\n",
       "      <td>NaN</td>\n",
       "    </tr>\n",
       "  </tbody>\n",
       "</table>\n",
       "<p>5 rows × 29 columns</p>\n",
       "</div>"
      ],
      "text/plain": [
       "   overall  verified reviewTime      reviewerID        asin        style  \\\n",
       "0      4.0      True 2017-11-07  A2NIJTYWADLK57  0140503528   Board book   \n",
       "1      4.0      True 2017-03-07  A2827D8EEURMP4  0140503528    Hardcover   \n",
       "2      5.0      True 2016-06-25   APB6087F4J09J  0140503528   Board book   \n",
       "3      5.0      True 2016-02-21  A2DHERRZIPFU7X  0140503528    Paperback   \n",
       "4      5.0     False 2015-08-02   A2XCLJRGFANRC  0140503528    Hardcover   \n",
       "\n",
       "       reviewerName                                         reviewText  \\\n",
       "0       cotton clay  kids like story BUT while i really wanted a bo...   \n",
       "1          emankcin  Bought this used and it came in great conditio...   \n",
       "2     Starbucks Fan  Every story and book about Corduroy is Fantast...   \n",
       "3  Caitlyn Jacobson  I purchased this book for my first grade class...   \n",
       "4          E. Ervin  Having spent numerous years in an elementary s...   \n",
       "\n",
       "                              summary  unixReviewTime  ...         main_cat  \\\n",
       "0  good story, small size book though      1510012800  ...  Office Products   \n",
       "1                                Good      1488844800  ...  Office Products   \n",
       "2         Best Books for All Children      1466812800  ...  Office Products   \n",
       "3                     Great for Math!      1456012800  ...  Office Products   \n",
       "4                       Love Corduroy      1438473600  ...  Office Products   \n",
       "\n",
       "  similar_item                date  price          feature  \\\n",
       "0          NaN  September 14, 2006  $0.95  [9780140503524]   \n",
       "1          NaN  September 14, 2006  $0.95  [9780140503524]   \n",
       "2          NaN  September 14, 2006  $0.95  [9780140503524]   \n",
       "3          NaN  September 14, 2006  $0.95  [9780140503524]   \n",
       "4          NaN  September 14, 2006  $0.95  [9780140503524]   \n",
       "\n",
       "                                            also_buy image_y details tech2  \\\n",
       "0  [0140501738, 0448421917, 0670063428, 042528875...     NaN     NaN   NaN   \n",
       "1  [0140501738, 0448421917, 0670063428, 042528875...     NaN     NaN   NaN   \n",
       "2  [0140501738, 0448421917, 0670063428, 042528875...     NaN     NaN   NaN   \n",
       "3  [0140501738, 0448421917, 0670063428, 042528875...     NaN     NaN   NaN   \n",
       "4  [0140501738, 0448421917, 0670063428, 042528875...     NaN     NaN   NaN   \n",
       "\n",
       "   fit  \n",
       "0  NaN  \n",
       "1  NaN  \n",
       "2  NaN  \n",
       "3  NaN  \n",
       "4  NaN  \n",
       "\n",
       "[5 rows x 29 columns]"
      ]
     },
     "execution_count": 32,
     "metadata": {},
     "output_type": "execute_result"
    }
   ],
   "source": [
    "combined_df.head()"
   ]
  },
  {
   "cell_type": "code",
   "execution_count": 33,
   "metadata": {},
   "outputs": [
    {
     "data": {
      "text/plain": [
       "<matplotlib.axes._subplots.AxesSubplot at 0x1edf73790>"
      ]
     },
     "execution_count": 33,
     "metadata": {},
     "output_type": "execute_result"
    },
    {
     "data": {
      "image/png": "[encoded data removed]",
      "text/plain": [
       "<Figure size 576x432 with 1 Axes>"
      ]
     },
     "metadata": {
      "needs_background": "light"
     },
     "output_type": "display_data"
    }
   ],
   "source": [
    "plt.figure(figsize = (8,6))\n",
    "combined_df.groupby('main_cat')['reviewerID'].count().plot.barh()"
   ]
  }
 ],
 "metadata": {
  "kernelspec": {
   "display_name": "Python 3",
   "language": "python",
   "name": "python3"
  },
  "language_info": {
   "codemirror_mode": {
    "name": "ipython",
    "version": 3
   },
   "file_extension": ".py",
   "mimetype": "text/x-python",
   "name": "python",
   "nbconvert_exporter": "python",
   "pygments_lexer": "ipython3",
   "version": "3.7.4"
  }
 },
 "nbformat": 4,
 "nbformat_minor": 2
}
